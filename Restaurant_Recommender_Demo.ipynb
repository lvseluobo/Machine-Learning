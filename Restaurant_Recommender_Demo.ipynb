{
 "cells": [
  {
   "cell_type": "markdown",
   "metadata": {},
   "source": [
    "#  Restaurant Recommender\n"
   ]
  },
  {
   "cell_type": "code",
   "execution_count": 1,
   "metadata": {
    "collapsed": true
   },
   "outputs": [],
   "source": [
    "import pandas as pd\n",
    "import numpy as np\n",
    "import matplotlib.pyplot as plt\n",
    "% matplotlib inline\n",
    "import seaborn as sns\n",
    "from sklearn.metrics.pairwise import cosine_similarity\n"
   ]
  },
  {
   "cell_type": "markdown",
   "metadata": {},
   "source": [
    "### Yelp data from last 2 years in Las Vegas"
   ]
  },
  {
   "cell_type": "code",
   "execution_count": 2,
   "metadata": {
    "collapsed": true
   },
   "outputs": [],
   "source": [
    "df = pd.read_csv('last_2_years_restaurant_reviews.csv')"
   ]
  },
  {
   "cell_type": "code",
   "execution_count": 126,
   "metadata": {},
   "outputs": [
    {
     "data": {
      "text/html": [
       "<div>\n",
       "<style>\n",
       "    .dataframe thead tr:only-child th {\n",
       "        text-align: right;\n",
       "    }\n",
       "\n",
       "    .dataframe thead th {\n",
       "        text-align: left;\n",
       "    }\n",
       "\n",
       "    .dataframe tbody tr th {\n",
       "        vertical-align: top;\n",
       "    }\n",
       "</style>\n",
       "<table border=\"1\" class=\"dataframe\">\n",
       "  <thead>\n",
       "    <tr style=\"text-align: right;\">\n",
       "      <th></th>\n",
       "      <th>business_id</th>\n",
       "      <th>cool</th>\n",
       "      <th>date</th>\n",
       "      <th>funny</th>\n",
       "      <th>review_id</th>\n",
       "      <th>stars</th>\n",
       "      <th>text</th>\n",
       "      <th>useful</th>\n",
       "      <th>user_id</th>\n",
       "      <th>name</th>\n",
       "      <th>categories</th>\n",
       "      <th>avg_stars</th>\n",
       "    </tr>\n",
       "  </thead>\n",
       "  <tbody>\n",
       "    <tr>\n",
       "      <th>0</th>\n",
       "      <td>--9e1ONYQuAa-CB_Rrw7Tw</td>\n",
       "      <td>1</td>\n",
       "      <td>2016-05-17</td>\n",
       "      <td>0</td>\n",
       "      <td>0Qc1THNHSapDL7cv-ZzW5g</td>\n",
       "      <td>5</td>\n",
       "      <td>What can I say.. Wowzers! Probably one of the ...</td>\n",
       "      <td>0</td>\n",
       "      <td>4LxKRRIikhr65GfPDW626w</td>\n",
       "      <td>Delmonico Steakhouse</td>\n",
       "      <td>['Steakhouses', 'Cajun/Creole', 'Restaurants']</td>\n",
       "      <td>4.0</td>\n",
       "    </tr>\n",
       "    <tr>\n",
       "      <th>1</th>\n",
       "      <td>--9e1ONYQuAa-CB_Rrw7Tw</td>\n",
       "      <td>0</td>\n",
       "      <td>2017-01-20</td>\n",
       "      <td>0</td>\n",
       "      <td>L8lo5SKXfZRlbn1bpPiC9w</td>\n",
       "      <td>5</td>\n",
       "      <td>Went here for guys weekend. Unbelievable. Ravi...</td>\n",
       "      <td>0</td>\n",
       "      <td>nT8zgjoc-PbdBoQsFEXFLw</td>\n",
       "      <td>Delmonico Steakhouse</td>\n",
       "      <td>['Steakhouses', 'Cajun/Creole', 'Restaurants']</td>\n",
       "      <td>4.0</td>\n",
       "    </tr>\n",
       "    <tr>\n",
       "      <th>2</th>\n",
       "      <td>--9e1ONYQuAa-CB_Rrw7Tw</td>\n",
       "      <td>52</td>\n",
       "      <td>2016-09-25</td>\n",
       "      <td>30</td>\n",
       "      <td>6eUT3IwwWPP3CZkAhxqOIw</td>\n",
       "      <td>5</td>\n",
       "      <td>One word my friends: tableside!!! Yes, tablesi...</td>\n",
       "      <td>56</td>\n",
       "      <td>7RlyCglsIzhBn081inwvcg</td>\n",
       "      <td>Delmonico Steakhouse</td>\n",
       "      <td>['Steakhouses', 'Cajun/Creole', 'Restaurants']</td>\n",
       "      <td>4.0</td>\n",
       "    </tr>\n",
       "  </tbody>\n",
       "</table>\n",
       "</div>"
      ],
      "text/plain": [
       "              business_id  cool        date  funny               review_id  \\\n",
       "0  --9e1ONYQuAa-CB_Rrw7Tw     1  2016-05-17      0  0Qc1THNHSapDL7cv-ZzW5g   \n",
       "1  --9e1ONYQuAa-CB_Rrw7Tw     0  2017-01-20      0  L8lo5SKXfZRlbn1bpPiC9w   \n",
       "2  --9e1ONYQuAa-CB_Rrw7Tw    52  2016-09-25     30  6eUT3IwwWPP3CZkAhxqOIw   \n",
       "\n",
       "   stars                                               text  useful  \\\n",
       "0      5  What can I say.. Wowzers! Probably one of the ...       0   \n",
       "1      5  Went here for guys weekend. Unbelievable. Ravi...       0   \n",
       "2      5  One word my friends: tableside!!! Yes, tablesi...      56   \n",
       "\n",
       "                  user_id                  name  \\\n",
       "0  4LxKRRIikhr65GfPDW626w  Delmonico Steakhouse   \n",
       "1  nT8zgjoc-PbdBoQsFEXFLw  Delmonico Steakhouse   \n",
       "2  7RlyCglsIzhBn081inwvcg  Delmonico Steakhouse   \n",
       "\n",
       "                                       categories  avg_stars  \n",
       "0  ['Steakhouses', 'Cajun/Creole', 'Restaurants']        4.0  \n",
       "1  ['Steakhouses', 'Cajun/Creole', 'Restaurants']        4.0  \n",
       "2  ['Steakhouses', 'Cajun/Creole', 'Restaurants']        4.0  "
      ]
     },
     "execution_count": 126,
     "metadata": {},
     "output_type": "execute_result"
    }
   ],
   "source": [
    "df.head(3)"
   ]
  },
  {
   "cell_type": "markdown",
   "metadata": {},
   "source": [
    "# Get Ratings data "
   ]
  },
  {
   "cell_type": "markdown",
   "metadata": {},
   "source": [
    "#### Select relevant columns in the original dataframe"
   ]
  },
  {
   "cell_type": "code",
   "execution_count": 3,
   "metadata": {},
   "outputs": [
    {
     "name": "stdout",
     "output_type": "stream",
     "text": [
      "number of users: 203220   number of business ID: 5981\n"
     ]
    }
   ],
   "source": [
    "# Get business_id, user_id, stars for recommender\n",
    "df_stars = df[['business_id', 'user_id', 'stars']]\n",
    "print 'number of users:',df_stars['user_id'].nunique(),'  number of business ID:',df_stars['business_id'].nunique()"
   ]
  },
  {
   "cell_type": "markdown",
   "metadata": {},
   "source": [
    "# Data Exploratory Analysis"
   ]
  },
  {
   "cell_type": "markdown",
   "metadata": {},
   "source": [
    "### create a dataframe to present the average ratings and the number of reviews for each business_id and "
   ]
  },
  {
   "cell_type": "code",
   "execution_count": 4,
   "metadata": {
    "collapsed": true
   },
   "outputs": [],
   "source": [
    "ratings=pd.DataFrame(df.groupby('business_id')['stars'].mean())\n",
    "ratings['business_id']=ratings.index\n",
    "ratings['num of ratings given by users'] = pd.DataFrame(df.groupby('business_id')['stars'].count())"
   ]
  },
  {
   "cell_type": "markdown",
   "metadata": {},
   "source": [
    "### merge with the orignial dataframe to get the restaurant name"
   ]
  },
  {
   "cell_type": "code",
   "execution_count": 5,
   "metadata": {
    "collapsed": true
   },
   "outputs": [],
   "source": [
    "result=ratings.merge(df, on=['business_id'], how='left')\n",
    "ratings=result[['business_id','stars_x','num of ratings given by users','name']]\n",
    "ratings=ratings.rename(columns=({'stars_x':'stars'}))\n",
    "ratings_final=ratings.drop_duplicates()"
   ]
  },
  {
   "cell_type": "markdown",
   "metadata": {},
   "source": [
    "### Now I can check info by restaurant name"
   ]
  },
  {
   "cell_type": "code",
   "execution_count": 8,
   "metadata": {},
   "outputs": [
    {
     "data": {
      "text/html": [
       "<div>\n",
       "<style>\n",
       "    .dataframe thead tr:only-child th {\n",
       "        text-align: right;\n",
       "    }\n",
       "\n",
       "    .dataframe thead th {\n",
       "        text-align: left;\n",
       "    }\n",
       "\n",
       "    .dataframe tbody tr th {\n",
       "        vertical-align: top;\n",
       "    }\n",
       "</style>\n",
       "<table border=\"1\" class=\"dataframe\">\n",
       "  <thead>\n",
       "    <tr style=\"text-align: right;\">\n",
       "      <th></th>\n",
       "      <th>business_id</th>\n",
       "      <th>stars</th>\n",
       "      <th>num of ratings given by users</th>\n",
       "      <th>name</th>\n",
       "    </tr>\n",
       "  </thead>\n",
       "  <tbody>\n",
       "    <tr>\n",
       "      <th>40682</th>\n",
       "      <td>4JNXUYY8wbaaDmk3BPzlWw</td>\n",
       "      <td>4.112854</td>\n",
       "      <td>2614</td>\n",
       "      <td>Mon Ami Gabi</td>\n",
       "    </tr>\n",
       "  </tbody>\n",
       "</table>\n",
       "</div>"
      ],
      "text/plain": [
       "                  business_id     stars  num of ratings given by users  \\\n",
       "40682  4JNXUYY8wbaaDmk3BPzlWw  4.112854                           2614   \n",
       "\n",
       "               name  \n",
       "40682  Mon Ami Gabi  "
      ]
     },
     "execution_count": 8,
     "metadata": {},
     "output_type": "execute_result"
    }
   ],
   "source": [
    "ratings_final[ratings_final['name']=='Mon Ami Gabi'] # my favoriate one in Vegas!"
   ]
  },
  {
   "cell_type": "code",
   "execution_count": 59,
   "metadata": {},
   "outputs": [
    {
     "data": {
      "text/plain": [
       "<seaborn.axisgrid.JointGrid at 0x12b6e4f50>"
      ]
     },
     "execution_count": 59,
     "metadata": {},
     "output_type": "execute_result"
    },
    {
     "data": {
      "image/png": "[encoded data removed]",
      "text/plain": [
       "<matplotlib.figure.Figure at 0x12b6d8310>"
      ]
     },
     "metadata": {},
     "output_type": "display_data"
    }
   ],
   "source": [
    "sns.jointplot(x='stars',y='num of ratings given by users',data=ratings_final) "
   ]
  },
  {
   "cell_type": "markdown",
   "metadata": {},
   "source": [
    "### The distributions of num of ratings: it looks most restaurants received low number of ratings"
   ]
  },
  {
   "cell_type": "code",
   "execution_count": 6,
   "metadata": {},
   "outputs": [
    {
     "data": {
      "text/plain": [
       "<matplotlib.text.Text at 0x11689b050>"
      ]
     },
     "execution_count": 6,
     "metadata": {},
     "output_type": "execute_result"
    },
    {
     "data": {
      "image/png": "[encoded data removed]",
      "text/plain": [
       "<matplotlib.figure.Figure at 0x10d16fa90>"
      ]
     },
     "metadata": {},
     "output_type": "display_data"
    }
   ],
   "source": [
    "axes = plt.gca()\n",
    "axes.set_xlim([0,1500])\n",
    "ratings_final['num of ratings given by users'].hist(bins=70)\n",
    "plt.xlabel('num of ratings')\n",
    "plt.ylabel('Counts')"
   ]
  },
  {
   "cell_type": "markdown",
   "metadata": {},
   "source": [
    "###  The distributions of Ratings "
   ]
  },
  {
   "cell_type": "code",
   "execution_count": 10,
   "metadata": {},
   "outputs": [
    {
     "data": {
      "text/plain": [
       "<matplotlib.text.Text at 0x10cfaba90>"
      ]
     },
     "execution_count": 10,
     "metadata": {},
     "output_type": "execute_result"
    },
    {
     "data": {
      "image/png": "[encoded data removed]",
      "text/plain": [
       "<matplotlib.figure.Figure at 0x10cf4b650>"
      ]
     },
     "metadata": {},
     "output_type": "display_data"
    }
   ],
   "source": [
    "ratings_final['stars'].hist(bins=70)\n",
    "plt.xlabel('Stars')\n",
    "plt.ylabel('Counts')"
   ]
  },
  {
   "cell_type": "markdown",
   "metadata": {},
   "source": [
    "#### I see a spike at stars==5 and wondering how many times each those restaurants have been rated. "
   ]
  },
  {
   "cell_type": "code",
   "execution_count": 58,
   "metadata": {},
   "outputs": [
    {
     "data": {
      "text/plain": [
       "3.9273504273504272"
      ]
     },
     "execution_count": 58,
     "metadata": {},
     "output_type": "execute_result"
    }
   ],
   "source": [
    "ratings_final[ratings_final['stars']==5]['num of ratings given by users'].mean()"
   ]
  },
  {
   "cell_type": "markdown",
   "metadata": {
    "collapsed": true
   },
   "source": [
    "# Data Flitering"
   ]
  },
  {
   "cell_type": "markdown",
   "metadata": {},
   "source": [
    "### Check how many reviews each user_id gives. \n",
    "it looks a large amount of users give very few reviews. >60% gives 1 reviews\n"
   ]
  },
  {
   "cell_type": "code",
   "execution_count": 30,
   "metadata": {},
   "outputs": [
    {
     "data": {
      "text/plain": [
       "6.770002952465308"
      ]
     },
     "execution_count": 30,
     "metadata": {},
     "output_type": "execute_result"
    }
   ],
   "source": [
    "df_user_counts = df_stars['user_id'].value_counts()\n",
    "float(df_user_counts[df_user_counts > 5].count())*100/df_stars['user_id'].nunique()"
   ]
  },
  {
   "cell_type": "markdown",
   "metadata": {},
   "source": [
    "### Check how many users give > 5 reviews "
   ]
  },
  {
   "cell_type": "code",
   "execution_count": 31,
   "metadata": {
    "collapsed": true
   },
   "outputs": [],
   "source": [
    "df_users = df_user_counts[df_user_counts > 5] \n",
    "df_stars_cleaned = df_stars.set_index('user_id').loc[df_users.index].reset_index()"
   ]
  },
  {
   "cell_type": "markdown",
   "metadata": {},
   "source": [
    "### Check how many reviews each restaurant has received. \n",
    "\n",
    "select the business_id has received > 5 reviews. "
   ]
  },
  {
   "cell_type": "code",
   "execution_count": 34,
   "metadata": {
    "collapsed": true
   },
   "outputs": [],
   "source": [
    "df_business_counts = df_stars_cleaned['business_id'].value_counts()\n",
    "# select the business_id have received > 5 reviews \n",
    "df_business = df_business_counts[df_business_counts > 5]\n",
    "df_stars_cleaned = df_stars_cleaned.set_index('business_id').loc[df_business.index].reset_index()"
   ]
  },
  {
   "cell_type": "code",
   "execution_count": 37,
   "metadata": {},
   "outputs": [
    {
     "name": "stdout",
     "output_type": "stream",
     "text": [
      "number of users (give >5 times reviews): 13758   number of business ID (> 5 times reviewed): 3857\n"
     ]
    }
   ],
   "source": [
    "print 'number of users (give >5 times reviews):',df_stars_cleaned['user_id'].nunique(), '  number of business ID (> 5 times reviewed):',df_stars_cleaned['business_id'].nunique()"
   ]
  },
  {
   "cell_type": "markdown",
   "metadata": {},
   "source": [
    "### Now compare the distributions of ratings: original all business_id vs filtered business_id (>5 reviews)"
   ]
  },
  {
   "cell_type": "code",
   "execution_count": 38,
   "metadata": {},
   "outputs": [
    {
     "data": {
      "text/plain": [
       "<matplotlib.text.Text at 0x117331710>"
      ]
     },
     "execution_count": 38,
     "metadata": {},
     "output_type": "execute_result"
    },
    {
     "data": {
      "image/png": "[encoded data removed]",
      "text/plain": [
       "<matplotlib.figure.Figure at 0x124aa55d0>"
      ]
     },
     "metadata": {},
     "output_type": "display_data"
    }
   ],
   "source": [
    "ratings_filtered=pd.DataFrame(df_stars_cleaned.groupby('business_id')['stars'].mean())\n",
    "plt.figure(figsize=(14,8))\n",
    "\n",
    "plt.subplot(1,2,1)\n",
    "axes = plt.gca()\n",
    "axes.set_ylim([0,300])\n",
    "ratings_filtered['stars'].hist(bins=70)\n",
    "plt.xlabel('Stars')\n",
    "plt.ylabel('Counts (only restaurants reviewed > 5 tims )')\n",
    "plt.title ('Restaurants with > 5 reviews', fontsize=20)\n",
    "\n",
    "plt.subplot(1,2,2)\n",
    "axes = plt.gca()\n",
    "axes.set_ylim([0,300])\n",
    "ratings_final['stars'].hist(bins=70)\n",
    "plt.xlabel('Stars')\n",
    "plt.ylabel('Counts')\n",
    "plt.title ('Restaurants with <= 5 reviews', fontsize=20)"
   ]
  },
  {
   "cell_type": "markdown",
   "metadata": {},
   "source": [
    "# Create utility matrix "
   ]
  },
  {
   "cell_type": "code",
   "execution_count": 39,
   "metadata": {
    "collapsed": true
   },
   "outputs": [],
   "source": [
    "df_utility = pd.pivot_table(df_stars_cleaned, values = 'stars', index = 'user_id', columns = 'business_id', fill_value = 0)\n",
    "utility_matrix = df_utility.values\n",
    "user_id_list = df_utility.index \n",
    "item_id_list = df_utility.columns\n",
    "ratings_matrix=utility_matrix"
   ]
  },
  {
   "cell_type": "code",
   "execution_count": 61,
   "metadata": {
    "collapsed": true
   },
   "outputs": [],
   "source": [
    "n_users = utility_matrix.shape[0]\n",
    "n_items = utility_matrix.shape[1]"
   ]
  },
  {
   "cell_type": "markdown",
   "metadata": {},
   "source": [
    "# Build Item-Item similarity recommender"
   ]
  },
  {
   "cell_type": "markdown",
   "metadata": {},
   "source": [
    "### Calculate item to item similarity and sort by item similarity"
   ]
  },
  {
   "cell_type": "code",
   "execution_count": 41,
   "metadata": {
    "collapsed": true
   },
   "outputs": [],
   "source": [
    "item_sim_mat = cosine_similarity(utility_matrix.T)\n",
    "least_to_most_sim_indexes = np.argsort(item_sim_mat, axis=1)\n",
    "\n",
    "neighborhood_size = 50\n",
    "neighborhoods = least_to_most_sim_indexes[:, -neighborhood_size:]"
   ]
  },
  {
   "cell_type": "markdown",
   "metadata": {
    "scrolled": true
   },
   "source": [
    "### Predict ratings for a given user\n",
    "\n",
    "$rating(u,i)=\\frac{\\sum_{j\\in I_u \\cap N_i} similarity(i,j) * rating(u,j)}{\\sum_{j\\in I_u \\cap N_i} similarity(i,j)}$\n"
   ]
  },
  {
   "cell_type": "code",
   "execution_count": 62,
   "metadata": {
    "collapsed": true,
    "scrolled": false
   },
   "outputs": [],
   "source": [
    "user_id=70\n",
    "items_rated_by_this_user = ratings_matrix[user_id].nonzero()[0] # all the nonzero ratings given by this user\n",
    "out = np.zeros(n_items)\n",
    "pred_ratings=np.zeros(n_items)\n",
    "for item_to_rate in xrange(n_items):# relevate_items are the one rated by this user and also within the neiborhoods\n",
    "    relevant_items = np.intersect1d(neighborhoods[item_to_rate],items_rated_by_this_user, assume_unique=True)  # assume_unique speeds up intersection op\n",
    "    if len(relevant_items)>0:\n",
    "        out[item_to_rate] = (ratings_matrix[user_id, relevant_items]*item_sim_mat[item_to_rate, relevant_items]).sum()/item_sim_mat[item_to_rate, relevant_items].sum()\n",
    "    else:\n",
    "        out[item_to_rate]=0\n",
    "pred_ratings = np.nan_to_num(out)"
   ]
  },
  {
   "cell_type": "markdown",
   "metadata": {},
   "source": [
    "### Let us compare the actual ratings and predicted ratings"
   ]
  },
  {
   "cell_type": "code",
   "execution_count": 63,
   "metadata": {},
   "outputs": [
    {
     "data": {
      "text/html": [
       "<div>\n",
       "<style>\n",
       "    .dataframe thead tr:only-child th {\n",
       "        text-align: right;\n",
       "    }\n",
       "\n",
       "    .dataframe thead th {\n",
       "        text-align: left;\n",
       "    }\n",
       "\n",
       "    .dataframe tbody tr th {\n",
       "        vertical-align: top;\n",
       "    }\n",
       "</style>\n",
       "<table border=\"1\" class=\"dataframe\">\n",
       "  <thead>\n",
       "    <tr style=\"text-align: right;\">\n",
       "      <th></th>\n",
       "      <th>restaurant</th>\n",
       "      <th>ratings</th>\n",
       "      <th>pred_ratings</th>\n",
       "    </tr>\n",
       "  </thead>\n",
       "  <tbody>\n",
       "    <tr>\n",
       "      <th>0</th>\n",
       "      <td>FireRock Steakhouse</td>\n",
       "      <td>5</td>\n",
       "      <td>4.82419420863</td>\n",
       "    </tr>\n",
       "    <tr>\n",
       "      <th>1</th>\n",
       "      <td>Satay Thai Bistro &amp; Bar</td>\n",
       "      <td>3</td>\n",
       "      <td>3.0</td>\n",
       "    </tr>\n",
       "    <tr>\n",
       "      <th>2</th>\n",
       "      <td>Famous Dave's Barbeque - Las Vegas</td>\n",
       "      <td>3</td>\n",
       "      <td>3.0</td>\n",
       "    </tr>\n",
       "    <tr>\n",
       "      <th>3</th>\n",
       "      <td>Michoacan Gourmet Mexican Restaurant</td>\n",
       "      <td>3</td>\n",
       "      <td>3.18304567952</td>\n",
       "    </tr>\n",
       "    <tr>\n",
       "      <th>4</th>\n",
       "      <td>IHOP</td>\n",
       "      <td>3</td>\n",
       "      <td>3.22848694628</td>\n",
       "    </tr>\n",
       "    <tr>\n",
       "      <th>5</th>\n",
       "      <td>Olive Garden Italian Restaurant</td>\n",
       "      <td>4</td>\n",
       "      <td>3.86025459441</td>\n",
       "    </tr>\n",
       "    <tr>\n",
       "      <th>6</th>\n",
       "      <td>Street Dogs</td>\n",
       "      <td>5</td>\n",
       "      <td>4.82284514301</td>\n",
       "    </tr>\n",
       "    <tr>\n",
       "      <th>7</th>\n",
       "      <td>Red Robin Gourmet Burgers</td>\n",
       "      <td>4</td>\n",
       "      <td>4.10181311942</td>\n",
       "    </tr>\n",
       "    <tr>\n",
       "      <th>8</th>\n",
       "      <td>Starbucks</td>\n",
       "      <td>3</td>\n",
       "      <td>3.17715485699</td>\n",
       "    </tr>\n",
       "    <tr>\n",
       "      <th>9</th>\n",
       "      <td>BabyStacks Cafe</td>\n",
       "      <td>1</td>\n",
       "      <td>1.0</td>\n",
       "    </tr>\n",
       "  </tbody>\n",
       "</table>\n",
       "</div>"
      ],
      "text/plain": [
       "                             restaurant ratings   pred_ratings\n",
       "0                   FireRock Steakhouse       5  4.82419420863\n",
       "1               Satay Thai Bistro & Bar       3            3.0\n",
       "2    Famous Dave's Barbeque - Las Vegas       3            3.0\n",
       "3  Michoacan Gourmet Mexican Restaurant       3  3.18304567952\n",
       "4                                  IHOP       3  3.22848694628\n",
       "5       Olive Garden Italian Restaurant       4  3.86025459441\n",
       "6                           Street Dogs       5  4.82284514301\n",
       "7             Red Robin Gourmet Burgers       4  4.10181311942\n",
       "8                             Starbucks       3  3.17715485699\n",
       "9                       BabyStacks Cafe       1            1.0"
      ]
     },
     "execution_count": 63,
     "metadata": {},
     "output_type": "execute_result"
    }
   ],
   "source": [
    "actual_ratings=ratings_matrix[user_id][ratings_matrix[user_id].nonzero()]\n",
    "predicted_ratings=pred_ratings[ratings_matrix[user_id].nonzero()]\n",
    "\n",
    "leng=len(actual_rated_business_id_index[0])\n",
    "result_array = np.empty((0,1))\n",
    "for item in actual_rated_business_id_index[0]:\n",
    "    a=df[df['business_id']==item_id_list[item]]['name'].unique()\n",
    "    b=ratings_matrix[user_id][item]\n",
    "    c=pred_ratings[item]\n",
    "    result=[''.join(a),b,c]\n",
    "    result_array = np.append(result_array, result)\n",
    "pd.DataFrame(result_array.reshape(leng,3),columns=['restaurant','ratings','pred_ratings'])"
   ]
  },
  {
   "cell_type": "markdown",
   "metadata": {},
   "source": [
    "### Recommend some places for this user! "
   ]
  },
  {
   "cell_type": "code",
   "execution_count": 47,
   "metadata": {
    "scrolled": true
   },
   "outputs": [
    {
     "name": "stdout",
     "output_type": "stream",
     "text": [
      "['KJ Dim Sum & Seafood'] 3.24056603774\n",
      "['Tacos El Compita'] 4.04444444444\n",
      "['Jamms Restaurant'] 4.4\n",
      "['Dispensary Lounge'] 4.12765957447\n",
      "[\"Sunset Park'd\"] 4.5\n"
     ]
    }
   ],
   "source": [
    "n = 5\n",
    "item_index_sorted_by_pred_rating = list(np.argsort(pred_ratings))\n",
    "items_rated_by_this_user = ratings_matrix[user_id].nonzero()[0]\n",
    "unrated_items_by_pred_rating = [item for item in item_index_sorted_by_pred_rating\n",
    "                                if item not in items_rated_by_this_user]\n",
    "for item in (item_id_list[unrated_items_by_pred_rating[-n:]]):\n",
    "    print df[df['business_id']==item]['name'].unique(), df[df['business_id']==item]['stars'].mean()"
   ]
  }
 ],
 "metadata": {
  "anaconda-cloud": {},
  "kernelspec": {
   "display_name": "Python 3",
   "language": "python",
   "name": "python3"
  },
  "language_info": {
   "codemirror_mode": {
    "name": "ipython",
    "version": 3
   },
   "file_extension": ".py",
   "mimetype": "text/x-python",
   "name": "python",
   "nbconvert_exporter": "python",
   "pygments_lexer": "ipython3",
   "version": "3.6.2"
  }
 },
 "nbformat": 4,
 "nbformat_minor": 1
}
